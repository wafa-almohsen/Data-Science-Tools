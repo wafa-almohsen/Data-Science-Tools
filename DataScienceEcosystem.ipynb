{
 "cells": [
  {
   "cell_type": "markdown",
   "id": "091f25e9-9d28-46e5-b29e-6fe911eee4fb",
   "metadata": {},
   "source": [
    "# Data Science Tools and Ecosystem"
   ]
  },
  {
   "cell_type": "markdown",
   "id": "25fef93c-9ff8-460c-b2a3-982b459d0f16",
   "metadata": {},
   "source": [
    "# Introduction\n",
    "\n",
    "In this notebook, Data Science Tools and Ecosystem are summarized.\n"
   ]
  },
  {
   "cell_type": "markdown",
   "id": "3b585601-0efa-4ddf-8694-c946d01b2983",
   "metadata": {},
   "source": [
    " \n",
    "\n",
    "## Objectives  \n",
    "\n",
    "**Objectives:**  \n",
    "\n",
    "-  languages for Data Science  \n",
    "-  libraries in Data Science  \n",
    "-  Data Science tools  \n",
    "-  arithmetic operations in Python  \n",
    "  \n"
   ]
  },
  {
   "cell_type": "markdown",
   "id": "f2e9c2ad-67f5-4f10-bc10-ddbd64299887",
   "metadata": {},
   "source": [
    "## Data Science Languages  \n",
    "\n",
    "Some of the popular languages that Data Scientists use are:  \n",
    "\n",
    "1. Python  \n",
    "2. R  \n",
    "3. SQL  \n",
    " \n"
   ]
  },
  {
   "cell_type": "markdown",
   "id": "a95c8a2d-29cc-4fc9-ad80-120e1a6c65e3",
   "metadata": {},
   "source": [
    "## Data Science Libraries  \n",
    "\n",
    "Some of the commonly used libraries used by Data Scientists include:  \n",
    "\n",
    "1. Pandas  \n",
    "2. NumPy  \n",
    "3. Scikit-learn  \n",
    " \n"
   ]
  },
  {
   "cell_type": "markdown",
   "id": "45e8adfa-cb24-44e5-b170-d9b5bebe4849",
   "metadata": {},
   "source": [
    "## Data Science Tools  \n",
    "\n",
    "| Data Science Tools        |\n",
    "|---------------------------|\n",
    "| Jupyter Notebook         |\n",
    "| RStudio                  |\n",
    "| Apache Zeppelin          |\n"
   ]
  },
  {
   "cell_type": "markdown",
   "id": "35c82dd8-6653-4af9-88f4-a6ee222aeb99",
   "metadata": {},
   "source": [
    "### Arithmetic Expression Examples  \n",
    "\n",
    "Below are a few examples of evaluating arithmetic expressions in Python.  \n"
   ]
  },
  {
   "cell_type": "code",
   "execution_count": 1,
   "id": "a647104d-cdc3-4c35-9a41-ce16c1672f45",
   "metadata": {},
   "outputs": [
    {
     "data": {
      "text/plain": [
       "17"
      ]
     },
     "execution_count": 1,
     "metadata": {},
     "output_type": "execute_result"
    }
   ],
   "source": [
    "# This is a simple arithmetic expression to multiply then add integers\n",
    "(3 * 4) + 5\n"
   ]
  },
  {
   "cell_type": "code",
   "execution_count": 2,
   "id": "4b5f4783-f399-4b71-8d22-3c02c419ce08",
   "metadata": {},
   "outputs": [
    {
     "data": {
      "text/plain": [
       "3.3333333333333335"
      ]
     },
     "execution_count": 2,
     "metadata": {},
     "output_type": "execute_result"
    }
   ],
   "source": [
    "# This will convert 200 minutes to hours by dividing by 60\n",
    "200 / 60\n"
   ]
  },
  {
   "cell_type": "markdown",
   "id": "d677fb01-cebc-40e6-b619-c71874a1cd98",
   "metadata": {},
   "source": [
    "## Author  \n",
    "\n",
    "wafa almohsen \n"
   ]
  },
  {
   "cell_type": "code",
   "execution_count": null,
   "id": "8ad71289-f10c-4ea0-9cac-ef4f8aee1ea8",
   "metadata": {},
   "outputs": [],
   "source": []
  }
 ],
 "metadata": {
  "kernelspec": {
   "display_name": "Python 3 (ipykernel)",
   "language": "python",
   "name": "python3"
  },
  "language_info": {
   "codemirror_mode": {
    "name": "ipython",
    "version": 3
   },
   "file_extension": ".py",
   "mimetype": "text/x-python",
   "name": "python",
   "nbconvert_exporter": "python",
   "pygments_lexer": "ipython3",
   "version": "3.12.9"
  }
 },
 "nbformat": 4,
 "nbformat_minor": 5
}
